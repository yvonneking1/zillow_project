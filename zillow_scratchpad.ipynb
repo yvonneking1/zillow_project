{
 "cells": [
  {
   "cell_type": "markdown",
   "metadata": {},
   "source": [
    "## Acquire and Prep"
   ]
  },
  {
   "cell_type": "code",
   "execution_count": 1,
   "metadata": {},
   "outputs": [],
   "source": [
    "import numpy as np\n",
    "import pandas as pd\n",
    "import matplotlib.pyplot as plt\n",
    "import seaborn as sns\n",
    "from scipy import stats\n",
    "import statsmodels.api as sm\n",
    "import sklearn.linear_model\n",
    "from sklearn.model_selection import train_test_split\n",
    "\n",
    "import env\n",
    "import split_scale\n",
    "\n",
    "from math import sqrt\n",
    "%matplotlib inline"
   ]
  },
  {
   "cell_type": "markdown",
   "metadata": {},
   "source": [
    "**SQL query to use for the MVP model**"
   ]
  },
  {
   "cell_type": "code",
   "execution_count": 2,
   "metadata": {},
   "outputs": [],
   "source": [
    "query = \"\"\"\n",
    "SELECT \n",
    "bathroomcnt AS bath_count,\n",
    "bedroomcnt AS bedroom_count,\n",
    "calculatedfinishedsquarefeet AS sqft,\n",
    "fips,\n",
    "taxvaluedollarcnt AS assessed_tax_value,                                                                            \n",
    "(taxamount / taxvaluedollarcnt) AS tax_rate\n",
    "FROM properties_2017\n",
    "JOIN predictions_2017 AS pr USING(`parcelid`)\n",
    "WHERE (transactiondate >= '2017-05-01' AND transactiondate <= '2017-06-30') AND\n",
    "propertylandusetypeid = 261;\"\"\""
   ]
  },
  {
   "cell_type": "code",
   "execution_count": 3,
   "metadata": {},
   "outputs": [],
   "source": [
    "#add get_db_url to wrangle.py\n",
    "URL = env.get_db_url(\"zillow\")"
   ]
  },
  {
   "cell_type": "code",
   "execution_count": 4,
   "metadata": {},
   "outputs": [],
   "source": [
    "zillow = pd.read_sql(query, URL)"
   ]
  },
  {
   "cell_type": "markdown",
   "metadata": {},
   "source": [
    "**Take a peek at the data**"
   ]
  },
  {
   "cell_type": "code",
   "execution_count": 5,
   "metadata": {},
   "outputs": [
    {
     "data": {
      "text/html": [
       "<div>\n",
       "<style scoped>\n",
       "    .dataframe tbody tr th:only-of-type {\n",
       "        vertical-align: middle;\n",
       "    }\n",
       "\n",
       "    .dataframe tbody tr th {\n",
       "        vertical-align: top;\n",
       "    }\n",
       "\n",
       "    .dataframe thead th {\n",
       "        text-align: right;\n",
       "    }\n",
       "</style>\n",
       "<table border=\"1\" class=\"dataframe\">\n",
       "  <thead>\n",
       "    <tr style=\"text-align: right;\">\n",
       "      <th></th>\n",
       "      <th>bath_count</th>\n",
       "      <th>bedroom_count</th>\n",
       "      <th>sqft</th>\n",
       "      <th>fips</th>\n",
       "      <th>assessed_tax_value</th>\n",
       "      <th>tax_rate</th>\n",
       "    </tr>\n",
       "  </thead>\n",
       "  <tbody>\n",
       "    <tr>\n",
       "      <th>13061</th>\n",
       "      <td>3.0</td>\n",
       "      <td>4.0</td>\n",
       "      <td>1647.0</td>\n",
       "      <td>6037.0</td>\n",
       "      <td>583771.0</td>\n",
       "      <td>0.011554</td>\n",
       "    </tr>\n",
       "    <tr>\n",
       "      <th>8730</th>\n",
       "      <td>2.5</td>\n",
       "      <td>3.0</td>\n",
       "      <td>1587.0</td>\n",
       "      <td>6059.0</td>\n",
       "      <td>245760.0</td>\n",
       "      <td>0.012079</td>\n",
       "    </tr>\n",
       "    <tr>\n",
       "      <th>11308</th>\n",
       "      <td>3.0</td>\n",
       "      <td>4.0</td>\n",
       "      <td>3460.0</td>\n",
       "      <td>6037.0</td>\n",
       "      <td>860797.0</td>\n",
       "      <td>0.011539</td>\n",
       "    </tr>\n",
       "    <tr>\n",
       "      <th>4146</th>\n",
       "      <td>1.5</td>\n",
       "      <td>2.0</td>\n",
       "      <td>1392.0</td>\n",
       "      <td>6059.0</td>\n",
       "      <td>87651.0</td>\n",
       "      <td>0.014716</td>\n",
       "    </tr>\n",
       "  </tbody>\n",
       "</table>\n",
       "</div>"
      ],
      "text/plain": [
       "       bath_count  bedroom_count    sqft    fips  assessed_tax_value  tax_rate\n",
       "13061         3.0            4.0  1647.0  6037.0            583771.0  0.011554\n",
       "8730          2.5            3.0  1587.0  6059.0            245760.0  0.012079\n",
       "11308         3.0            4.0  3460.0  6037.0            860797.0  0.011539\n",
       "4146          1.5            2.0  1392.0  6059.0             87651.0  0.014716"
      ]
     },
     "execution_count": 5,
     "metadata": {},
     "output_type": "execute_result"
    }
   ],
   "source": [
    "zillow.sample(4)"
   ]
  },
  {
   "cell_type": "markdown",
   "metadata": {},
   "source": [
    "**Bring in the fips**"
   ]
  },
  {
   "cell_type": "code",
   "execution_count": 6,
   "metadata": {},
   "outputs": [],
   "source": [
    "FIPS = pd.read_csv(\"FIPS.txt\", sep=\"\\t\")"
   ]
  },
  {
   "cell_type": "code",
   "execution_count": 7,
   "metadata": {},
   "outputs": [
    {
     "data": {
      "text/html": [
       "<div>\n",
       "<style scoped>\n",
       "    .dataframe tbody tr th:only-of-type {\n",
       "        vertical-align: middle;\n",
       "    }\n",
       "\n",
       "    .dataframe tbody tr th {\n",
       "        vertical-align: top;\n",
       "    }\n",
       "\n",
       "    .dataframe thead th {\n",
       "        text-align: right;\n",
       "    }\n",
       "</style>\n",
       "<table border=\"1\" class=\"dataframe\">\n",
       "  <thead>\n",
       "    <tr style=\"text-align: right;\">\n",
       "      <th></th>\n",
       "      <th>FIPS</th>\n",
       "      <th>Name</th>\n",
       "      <th>State</th>\n",
       "    </tr>\n",
       "  </thead>\n",
       "  <tbody>\n",
       "    <tr>\n",
       "      <th>0</th>\n",
       "      <td>1001</td>\n",
       "      <td>Autauga</td>\n",
       "      <td>AL</td>\n",
       "    </tr>\n",
       "    <tr>\n",
       "      <th>1</th>\n",
       "      <td>1003</td>\n",
       "      <td>Baldwin</td>\n",
       "      <td>AL</td>\n",
       "    </tr>\n",
       "    <tr>\n",
       "      <th>2</th>\n",
       "      <td>1005</td>\n",
       "      <td>Barbour</td>\n",
       "      <td>AL</td>\n",
       "    </tr>\n",
       "    <tr>\n",
       "      <th>3</th>\n",
       "      <td>1007</td>\n",
       "      <td>Bibb</td>\n",
       "      <td>AL</td>\n",
       "    </tr>\n",
       "    <tr>\n",
       "      <th>4</th>\n",
       "      <td>1009</td>\n",
       "      <td>Blount</td>\n",
       "      <td>AL</td>\n",
       "    </tr>\n",
       "    <tr>\n",
       "      <th>...</th>\n",
       "      <td>...</td>\n",
       "      <td>...</td>\n",
       "      <td>...</td>\n",
       "    </tr>\n",
       "    <tr>\n",
       "      <th>3227</th>\n",
       "      <td>72151</td>\n",
       "      <td>Yabucoa</td>\n",
       "      <td>PR</td>\n",
       "    </tr>\n",
       "    <tr>\n",
       "      <th>3228</th>\n",
       "      <td>72153</td>\n",
       "      <td>Yauco</td>\n",
       "      <td>PR</td>\n",
       "    </tr>\n",
       "    <tr>\n",
       "      <th>3229</th>\n",
       "      <td>78010</td>\n",
       "      <td>St. Croix</td>\n",
       "      <td>VI</td>\n",
       "    </tr>\n",
       "    <tr>\n",
       "      <th>3230</th>\n",
       "      <td>78020</td>\n",
       "      <td>St. John</td>\n",
       "      <td>VI</td>\n",
       "    </tr>\n",
       "    <tr>\n",
       "      <th>3231</th>\n",
       "      <td>78030</td>\n",
       "      <td>St. Thomas</td>\n",
       "      <td>VI</td>\n",
       "    </tr>\n",
       "  </tbody>\n",
       "</table>\n",
       "<p>3232 rows × 3 columns</p>\n",
       "</div>"
      ],
      "text/plain": [
       "       FIPS        Name State\n",
       "0      1001     Autauga    AL\n",
       "1      1003     Baldwin    AL\n",
       "2      1005     Barbour    AL\n",
       "3      1007        Bibb    AL\n",
       "4      1009      Blount    AL\n",
       "...     ...         ...   ...\n",
       "3227  72151     Yabucoa    PR\n",
       "3228  72153       Yauco    PR\n",
       "3229  78010   St. Croix    VI\n",
       "3230  78020    St. John    VI\n",
       "3231  78030  St. Thomas    VI\n",
       "\n",
       "[3232 rows x 3 columns]"
      ]
     },
     "execution_count": 7,
     "metadata": {},
     "output_type": "execute_result"
    }
   ],
   "source": [
    "FIPS"
   ]
  },
  {
   "cell_type": "code",
   "execution_count": 8,
   "metadata": {},
   "outputs": [],
   "source": [
    "zillow = pd.merge(left=zillow, right=FIPS, left_on=\"fips\", right_on=\"FIPS\")"
   ]
  },
  {
   "cell_type": "code",
   "execution_count": 9,
   "metadata": {},
   "outputs": [
    {
     "data": {
      "text/html": [
       "<div>\n",
       "<style scoped>\n",
       "    .dataframe tbody tr th:only-of-type {\n",
       "        vertical-align: middle;\n",
       "    }\n",
       "\n",
       "    .dataframe tbody tr th {\n",
       "        vertical-align: top;\n",
       "    }\n",
       "\n",
       "    .dataframe thead th {\n",
       "        text-align: right;\n",
       "    }\n",
       "</style>\n",
       "<table border=\"1\" class=\"dataframe\">\n",
       "  <thead>\n",
       "    <tr style=\"text-align: right;\">\n",
       "      <th></th>\n",
       "      <th>bath_count</th>\n",
       "      <th>bedroom_count</th>\n",
       "      <th>sqft</th>\n",
       "      <th>fips</th>\n",
       "      <th>assessed_tax_value</th>\n",
       "      <th>tax_rate</th>\n",
       "      <th>FIPS</th>\n",
       "      <th>Name</th>\n",
       "      <th>State</th>\n",
       "    </tr>\n",
       "  </thead>\n",
       "  <tbody>\n",
       "    <tr>\n",
       "      <th>0</th>\n",
       "      <td>2.0</td>\n",
       "      <td>3.0</td>\n",
       "      <td>1458.0</td>\n",
       "      <td>6037.0</td>\n",
       "      <td>136104.0</td>\n",
       "      <td>0.017045</td>\n",
       "      <td>6037</td>\n",
       "      <td>Los Angeles</td>\n",
       "      <td>CA</td>\n",
       "    </tr>\n",
       "    <tr>\n",
       "      <th>1</th>\n",
       "      <td>1.0</td>\n",
       "      <td>2.0</td>\n",
       "      <td>1421.0</td>\n",
       "      <td>6037.0</td>\n",
       "      <td>35606.0</td>\n",
       "      <td>0.015270</td>\n",
       "      <td>6037</td>\n",
       "      <td>Los Angeles</td>\n",
       "      <td>CA</td>\n",
       "    </tr>\n",
       "    <tr>\n",
       "      <th>2</th>\n",
       "      <td>2.0</td>\n",
       "      <td>3.0</td>\n",
       "      <td>1650.0</td>\n",
       "      <td>6037.0</td>\n",
       "      <td>614000.0</td>\n",
       "      <td>0.012497</td>\n",
       "      <td>6037</td>\n",
       "      <td>Los Angeles</td>\n",
       "      <td>CA</td>\n",
       "    </tr>\n",
       "    <tr>\n",
       "      <th>3</th>\n",
       "      <td>1.0</td>\n",
       "      <td>2.0</td>\n",
       "      <td>693.0</td>\n",
       "      <td>6037.0</td>\n",
       "      <td>274237.0</td>\n",
       "      <td>0.011915</td>\n",
       "      <td>6037</td>\n",
       "      <td>Los Angeles</td>\n",
       "      <td>CA</td>\n",
       "    </tr>\n",
       "    <tr>\n",
       "      <th>4</th>\n",
       "      <td>0.0</td>\n",
       "      <td>0.0</td>\n",
       "      <td>1378.0</td>\n",
       "      <td>6037.0</td>\n",
       "      <td>168828.0</td>\n",
       "      <td>0.012648</td>\n",
       "      <td>6037</td>\n",
       "      <td>Los Angeles</td>\n",
       "      <td>CA</td>\n",
       "    </tr>\n",
       "    <tr>\n",
       "      <th>...</th>\n",
       "      <td>...</td>\n",
       "      <td>...</td>\n",
       "      <td>...</td>\n",
       "      <td>...</td>\n",
       "      <td>...</td>\n",
       "      <td>...</td>\n",
       "      <td>...</td>\n",
       "      <td>...</td>\n",
       "      <td>...</td>\n",
       "    </tr>\n",
       "    <tr>\n",
       "      <th>15031</th>\n",
       "      <td>2.0</td>\n",
       "      <td>3.0</td>\n",
       "      <td>1575.0</td>\n",
       "      <td>6111.0</td>\n",
       "      <td>506000.0</td>\n",
       "      <td>0.010707</td>\n",
       "      <td>6111</td>\n",
       "      <td>Ventura</td>\n",
       "      <td>CA</td>\n",
       "    </tr>\n",
       "    <tr>\n",
       "      <th>15032</th>\n",
       "      <td>2.0</td>\n",
       "      <td>3.0</td>\n",
       "      <td>1645.0</td>\n",
       "      <td>6111.0</td>\n",
       "      <td>230986.0</td>\n",
       "      <td>0.012363</td>\n",
       "      <td>6111</td>\n",
       "      <td>Ventura</td>\n",
       "      <td>CA</td>\n",
       "    </tr>\n",
       "    <tr>\n",
       "      <th>15033</th>\n",
       "      <td>2.0</td>\n",
       "      <td>3.0</td>\n",
       "      <td>1308.0</td>\n",
       "      <td>6111.0</td>\n",
       "      <td>255407.0</td>\n",
       "      <td>0.010919</td>\n",
       "      <td>6111</td>\n",
       "      <td>Ventura</td>\n",
       "      <td>CA</td>\n",
       "    </tr>\n",
       "    <tr>\n",
       "      <th>15034</th>\n",
       "      <td>2.5</td>\n",
       "      <td>4.0</td>\n",
       "      <td>2314.0</td>\n",
       "      <td>6111.0</td>\n",
       "      <td>485364.0</td>\n",
       "      <td>0.019674</td>\n",
       "      <td>6111</td>\n",
       "      <td>Ventura</td>\n",
       "      <td>CA</td>\n",
       "    </tr>\n",
       "    <tr>\n",
       "      <th>15035</th>\n",
       "      <td>2.0</td>\n",
       "      <td>3.0</td>\n",
       "      <td>1278.0</td>\n",
       "      <td>6111.0</td>\n",
       "      <td>468000.0</td>\n",
       "      <td>0.011530</td>\n",
       "      <td>6111</td>\n",
       "      <td>Ventura</td>\n",
       "      <td>CA</td>\n",
       "    </tr>\n",
       "  </tbody>\n",
       "</table>\n",
       "<p>15036 rows × 9 columns</p>\n",
       "</div>"
      ],
      "text/plain": [
       "       bath_count  bedroom_count    sqft    fips  assessed_tax_value  \\\n",
       "0             2.0            3.0  1458.0  6037.0            136104.0   \n",
       "1             1.0            2.0  1421.0  6037.0             35606.0   \n",
       "2             2.0            3.0  1650.0  6037.0            614000.0   \n",
       "3             1.0            2.0   693.0  6037.0            274237.0   \n",
       "4             0.0            0.0  1378.0  6037.0            168828.0   \n",
       "...           ...            ...     ...     ...                 ...   \n",
       "15031         2.0            3.0  1575.0  6111.0            506000.0   \n",
       "15032         2.0            3.0  1645.0  6111.0            230986.0   \n",
       "15033         2.0            3.0  1308.0  6111.0            255407.0   \n",
       "15034         2.5            4.0  2314.0  6111.0            485364.0   \n",
       "15035         2.0            3.0  1278.0  6111.0            468000.0   \n",
       "\n",
       "       tax_rate  FIPS         Name State  \n",
       "0      0.017045  6037  Los Angeles    CA  \n",
       "1      0.015270  6037  Los Angeles    CA  \n",
       "2      0.012497  6037  Los Angeles    CA  \n",
       "3      0.011915  6037  Los Angeles    CA  \n",
       "4      0.012648  6037  Los Angeles    CA  \n",
       "...         ...   ...          ...   ...  \n",
       "15031  0.010707  6111      Ventura    CA  \n",
       "15032  0.012363  6111      Ventura    CA  \n",
       "15033  0.010919  6111      Ventura    CA  \n",
       "15034  0.019674  6111      Ventura    CA  \n",
       "15035  0.011530  6111      Ventura    CA  \n",
       "\n",
       "[15036 rows x 9 columns]"
      ]
     },
     "execution_count": 9,
     "metadata": {},
     "output_type": "execute_result"
    }
   ],
   "source": [
    "zillow"
   ]
  },
  {
   "cell_type": "code",
   "execution_count": 10,
   "metadata": {},
   "outputs": [],
   "source": [
    "zillow.rename(columns = {\"Name\": \"county_name\"}, inplace = True)"
   ]
  },
  {
   "cell_type": "markdown",
   "metadata": {},
   "source": [
    "Check the datatypes and info"
   ]
  },
  {
   "cell_type": "code",
   "execution_count": 11,
   "metadata": {},
   "outputs": [
    {
     "name": "stdout",
     "output_type": "stream",
     "text": [
      "<class 'pandas.core.frame.DataFrame'>\n",
      "Int64Index: 15036 entries, 0 to 15035\n",
      "Data columns (total 9 columns):\n",
      "bath_count            15036 non-null float64\n",
      "bedroom_count         15036 non-null float64\n",
      "sqft                  15012 non-null float64\n",
      "fips                  15036 non-null float64\n",
      "assessed_tax_value    15036 non-null float64\n",
      "tax_rate              15035 non-null float64\n",
      "FIPS                  15036 non-null int64\n",
      "county_name           15036 non-null object\n",
      "State                 15036 non-null object\n",
      "dtypes: float64(6), int64(1), object(2)\n",
      "memory usage: 1.1+ MB\n"
     ]
    }
   ],
   "source": [
    "zillow.info()"
   ]
  },
  {
   "cell_type": "markdown",
   "metadata": {},
   "source": [
    "let's check to see how many zeros are in bed and bath"
   ]
  },
  {
   "cell_type": "code",
   "execution_count": 12,
   "metadata": {
    "scrolled": true
   },
   "outputs": [
    {
     "data": {
      "text/plain": [
       "2.0     6182\n",
       "3.0     3114\n",
       "1.0     2652\n",
       "2.5     1155\n",
       "4.0      671\n",
       "3.5      302\n",
       "1.5      240\n",
       "5.0      233\n",
       "4.5      217\n",
       "6.0      102\n",
       "5.5       65\n",
       "0.0       40\n",
       "7.0       25\n",
       "6.5       15\n",
       "8.0       14\n",
       "7.5        4\n",
       "9.0        3\n",
       "11.0       1\n",
       "10.0       1\n",
       "Name: bath_count, dtype: int64"
      ]
     },
     "execution_count": 12,
     "metadata": {},
     "output_type": "execute_result"
    }
   ],
   "source": [
    "zillow.bath_count.value_counts()"
   ]
  },
  {
   "cell_type": "code",
   "execution_count": 13,
   "metadata": {},
   "outputs": [
    {
     "data": {
      "text/plain": [
       "3.0     6668\n",
       "4.0     4423\n",
       "2.0     2350\n",
       "5.0     1158\n",
       "6.0      183\n",
       "1.0      177\n",
       "0.0       42\n",
       "7.0       27\n",
       "12.0       3\n",
       "9.0        2\n",
       "11.0       1\n",
       "10.0       1\n",
       "8.0        1\n",
       "Name: bedroom_count, dtype: int64"
      ]
     },
     "execution_count": 13,
     "metadata": {},
     "output_type": "execute_result"
    }
   ],
   "source": [
    "zillow.bedroom_count.value_counts()"
   ]
  },
  {
   "cell_type": "markdown",
   "metadata": {},
   "source": [
    "I'm going to drop the zeros in bed and bath to get my MVP out as fast as possible.\n",
    "\n",
    "- If thime permits later I might try to replace with mean or mode"
   ]
  },
  {
   "cell_type": "code",
   "execution_count": 14,
   "metadata": {},
   "outputs": [],
   "source": [
    "zillow.bath_count.replace(0, np.nan, inplace=True)"
   ]
  },
  {
   "cell_type": "code",
   "execution_count": 15,
   "metadata": {},
   "outputs": [
    {
     "name": "stdout",
     "output_type": "stream",
     "text": [
      "<class 'pandas.core.frame.DataFrame'>\n",
      "Int64Index: 15036 entries, 0 to 15035\n",
      "Data columns (total 9 columns):\n",
      "bath_count            14996 non-null float64\n",
      "bedroom_count         15036 non-null float64\n",
      "sqft                  15012 non-null float64\n",
      "fips                  15036 non-null float64\n",
      "assessed_tax_value    15036 non-null float64\n",
      "tax_rate              15035 non-null float64\n",
      "FIPS                  15036 non-null int64\n",
      "county_name           15036 non-null object\n",
      "State                 15036 non-null object\n",
      "dtypes: float64(6), int64(1), object(2)\n",
      "memory usage: 1.1+ MB\n"
     ]
    }
   ],
   "source": [
    "zillow.info()"
   ]
  },
  {
   "cell_type": "code",
   "execution_count": 16,
   "metadata": {},
   "outputs": [],
   "source": [
    "zillow.bedroom_count.replace(0, np.nan, inplace=True)"
   ]
  },
  {
   "cell_type": "code",
   "execution_count": 17,
   "metadata": {},
   "outputs": [
    {
     "name": "stdout",
     "output_type": "stream",
     "text": [
      "<class 'pandas.core.frame.DataFrame'>\n",
      "Int64Index: 15036 entries, 0 to 15035\n",
      "Data columns (total 9 columns):\n",
      "bath_count            14996 non-null float64\n",
      "bedroom_count         14994 non-null float64\n",
      "sqft                  15012 non-null float64\n",
      "fips                  15036 non-null float64\n",
      "assessed_tax_value    15036 non-null float64\n",
      "tax_rate              15035 non-null float64\n",
      "FIPS                  15036 non-null int64\n",
      "county_name           15036 non-null object\n",
      "State                 15036 non-null object\n",
      "dtypes: float64(6), int64(1), object(2)\n",
      "memory usage: 1.1+ MB\n"
     ]
    }
   ],
   "source": [
    "zillow.info()"
   ]
  },
  {
   "cell_type": "code",
   "execution_count": 18,
   "metadata": {},
   "outputs": [],
   "source": [
    "zillow.dropna(inplace=True)"
   ]
  },
  {
   "cell_type": "code",
   "execution_count": 19,
   "metadata": {},
   "outputs": [
    {
     "name": "stdout",
     "output_type": "stream",
     "text": [
      "<class 'pandas.core.frame.DataFrame'>\n",
      "Int64Index: 14989 entries, 0 to 15035\n",
      "Data columns (total 9 columns):\n",
      "bath_count            14989 non-null float64\n",
      "bedroom_count         14989 non-null float64\n",
      "sqft                  14989 non-null float64\n",
      "fips                  14989 non-null float64\n",
      "assessed_tax_value    14989 non-null float64\n",
      "tax_rate              14989 non-null float64\n",
      "FIPS                  14989 non-null int64\n",
      "county_name           14989 non-null object\n",
      "State                 14989 non-null object\n",
      "dtypes: float64(6), int64(1), object(2)\n",
      "memory usage: 1.1+ MB\n"
     ]
    }
   ],
   "source": [
    "zillow.info()"
   ]
  },
  {
   "cell_type": "code",
   "execution_count": 20,
   "metadata": {},
   "outputs": [],
   "source": [
    "#drop fips since they have no value to us now\n",
    "zillow.drop(columns=[\"fips\", \"FIPS\"], inplace=True)"
   ]
  },
  {
   "cell_type": "code",
   "execution_count": 21,
   "metadata": {},
   "outputs": [],
   "source": [
    "zillow[\"tax_percentage\"] = zillow.tax_rate * 100"
   ]
  },
  {
   "cell_type": "code",
   "execution_count": 22,
   "metadata": {},
   "outputs": [
    {
     "data": {
      "text/html": [
       "<div>\n",
       "<style scoped>\n",
       "    .dataframe tbody tr th:only-of-type {\n",
       "        vertical-align: middle;\n",
       "    }\n",
       "\n",
       "    .dataframe tbody tr th {\n",
       "        vertical-align: top;\n",
       "    }\n",
       "\n",
       "    .dataframe thead th {\n",
       "        text-align: right;\n",
       "    }\n",
       "</style>\n",
       "<table border=\"1\" class=\"dataframe\">\n",
       "  <thead>\n",
       "    <tr style=\"text-align: right;\">\n",
       "      <th></th>\n",
       "      <th>bath_count</th>\n",
       "      <th>bedroom_count</th>\n",
       "      <th>sqft</th>\n",
       "      <th>assessed_tax_value</th>\n",
       "      <th>tax_rate</th>\n",
       "      <th>county_name</th>\n",
       "      <th>State</th>\n",
       "      <th>tax_percentage</th>\n",
       "    </tr>\n",
       "  </thead>\n",
       "  <tbody>\n",
       "    <tr>\n",
       "      <th>0</th>\n",
       "      <td>2.0</td>\n",
       "      <td>3.0</td>\n",
       "      <td>1458.0</td>\n",
       "      <td>136104.0</td>\n",
       "      <td>0.017045</td>\n",
       "      <td>Los Angeles</td>\n",
       "      <td>CA</td>\n",
       "      <td>1.704505</td>\n",
       "    </tr>\n",
       "    <tr>\n",
       "      <th>1</th>\n",
       "      <td>1.0</td>\n",
       "      <td>2.0</td>\n",
       "      <td>1421.0</td>\n",
       "      <td>35606.0</td>\n",
       "      <td>0.015270</td>\n",
       "      <td>Los Angeles</td>\n",
       "      <td>CA</td>\n",
       "      <td>1.526962</td>\n",
       "    </tr>\n",
       "    <tr>\n",
       "      <th>2</th>\n",
       "      <td>2.0</td>\n",
       "      <td>3.0</td>\n",
       "      <td>1650.0</td>\n",
       "      <td>614000.0</td>\n",
       "      <td>0.012497</td>\n",
       "      <td>Los Angeles</td>\n",
       "      <td>CA</td>\n",
       "      <td>1.249705</td>\n",
       "    </tr>\n",
       "    <tr>\n",
       "      <th>3</th>\n",
       "      <td>1.0</td>\n",
       "      <td>2.0</td>\n",
       "      <td>693.0</td>\n",
       "      <td>274237.0</td>\n",
       "      <td>0.011915</td>\n",
       "      <td>Los Angeles</td>\n",
       "      <td>CA</td>\n",
       "      <td>1.191477</td>\n",
       "    </tr>\n",
       "    <tr>\n",
       "      <th>5</th>\n",
       "      <td>2.0</td>\n",
       "      <td>3.0</td>\n",
       "      <td>1108.0</td>\n",
       "      <td>486866.0</td>\n",
       "      <td>0.012304</td>\n",
       "      <td>Los Angeles</td>\n",
       "      <td>CA</td>\n",
       "      <td>1.230421</td>\n",
       "    </tr>\n",
       "  </tbody>\n",
       "</table>\n",
       "</div>"
      ],
      "text/plain": [
       "   bath_count  bedroom_count    sqft  assessed_tax_value  tax_rate  \\\n",
       "0         2.0            3.0  1458.0            136104.0  0.017045   \n",
       "1         1.0            2.0  1421.0             35606.0  0.015270   \n",
       "2         2.0            3.0  1650.0            614000.0  0.012497   \n",
       "3         1.0            2.0   693.0            274237.0  0.011915   \n",
       "5         2.0            3.0  1108.0            486866.0  0.012304   \n",
       "\n",
       "   county_name State  tax_percentage  \n",
       "0  Los Angeles    CA        1.704505  \n",
       "1  Los Angeles    CA        1.526962  \n",
       "2  Los Angeles    CA        1.249705  \n",
       "3  Los Angeles    CA        1.191477  \n",
       "5  Los Angeles    CA        1.230421  "
      ]
     },
     "execution_count": 22,
     "metadata": {},
     "output_type": "execute_result"
    }
   ],
   "source": [
    "zillow.head()"
   ]
  },
  {
   "cell_type": "code",
   "execution_count": 23,
   "metadata": {},
   "outputs": [
    {
     "data": {
      "text/plain": [
       "Los Angeles    9604\n",
       "Orange         4094\n",
       "Ventura        1291\n",
       "Name: county_name, dtype: int64"
      ]
     },
     "execution_count": 23,
     "metadata": {},
     "output_type": "execute_result"
    }
   ],
   "source": [
    "zillow.county_name.value_counts()"
   ]
  },
  {
   "cell_type": "markdown",
   "metadata": {},
   "source": [
    "## Distribution of Tax Rates"
   ]
  },
  {
   "cell_type": "code",
   "execution_count": 24,
   "metadata": {},
   "outputs": [],
   "source": [
    "la_county = zillow[zillow.county_name == \"Los Angeles\"]"
   ]
  },
  {
   "cell_type": "code",
   "execution_count": 25,
   "metadata": {},
   "outputs": [],
   "source": [
    "orange_county = zillow[zillow.county_name == \"Orange\"]"
   ]
  },
  {
   "cell_type": "code",
   "execution_count": 26,
   "metadata": {},
   "outputs": [],
   "source": [
    "ventura_county = zillow[zillow.county_name == \"Ventura\"]"
   ]
  },
  {
   "cell_type": "markdown",
   "metadata": {},
   "source": [
    "**Let's look at the mean median and mode of each county as well as the overall**"
   ]
  },
  {
   "cell_type": "code",
   "execution_count": 115,
   "metadata": {},
   "outputs": [],
   "source": [
    "county_mean = pd.DataFrame(zillow.groupby(\"county_name\").tax_rate.mean()) * 100\n",
    "county_mean.columns = ['Mean Tax Rate %']"
   ]
  },
  {
   "cell_type": "code",
   "execution_count": 116,
   "metadata": {},
   "outputs": [],
   "source": [
    "county_median = pd.DataFrame(zillow.groupby(\"county_name\").tax_rate.median()) * 100\n",
    "county_median.columns = ['Median Tax Rate %']"
   ]
  },
  {
   "cell_type": "code",
   "execution_count": 136,
   "metadata": {},
   "outputs": [],
   "source": [
    "county_max = pd.DataFrame(zillow.groupby(\"county_name\").tax_rate.max()) * 100\n",
    "county_max.columns = ['Max Tax Rate %']"
   ]
  },
  {
   "cell_type": "code",
   "execution_count": 137,
   "metadata": {},
   "outputs": [],
   "source": [
    "county_min = pd.DataFrame(zillow.groupby(\"county_name\").tax_rate.min()) * 100\n",
    "county_min.columns = ['Min Tax Rate %']"
   ]
  },
  {
   "cell_type": "code",
   "execution_count": 144,
   "metadata": {},
   "outputs": [],
   "source": [
    "county_std = pd.DataFrame(zillow.groupby(\"county_name\").tax_rate.std())\n",
    "county_std.columns = ['AVG STD of Tax Rates']"
   ]
  },
  {
   "cell_type": "code",
   "execution_count": 145,
   "metadata": {},
   "outputs": [],
   "source": [
    "summary1 = pd.merge(county_mean, county_median, left_index=True, right_index=True)"
   ]
  },
  {
   "cell_type": "code",
   "execution_count": 146,
   "metadata": {},
   "outputs": [],
   "source": [
    "summary2 = pd.merge(county_max , county_min , left_index=True, right_index=True)"
   ]
  },
  {
   "cell_type": "code",
   "execution_count": 147,
   "metadata": {},
   "outputs": [],
   "source": [
    "summary3 = pd.merge(summary1 , summary2 , left_index=True, right_index=True)"
   ]
  },
  {
   "cell_type": "code",
   "execution_count": 148,
   "metadata": {},
   "outputs": [
    {
     "data": {
      "text/html": [
       "<div>\n",
       "<style scoped>\n",
       "    .dataframe tbody tr th:only-of-type {\n",
       "        vertical-align: middle;\n",
       "    }\n",
       "\n",
       "    .dataframe tbody tr th {\n",
       "        vertical-align: top;\n",
       "    }\n",
       "\n",
       "    .dataframe thead th {\n",
       "        text-align: right;\n",
       "    }\n",
       "</style>\n",
       "<table border=\"1\" class=\"dataframe\">\n",
       "  <thead>\n",
       "    <tr style=\"text-align: right;\">\n",
       "      <th></th>\n",
       "      <th>Mean Tax Rate %</th>\n",
       "      <th>Median Tax Rate %</th>\n",
       "      <th>Max Tax Rate %</th>\n",
       "      <th>Min Tax Rate %</th>\n",
       "      <th>AVG STD of Tax Rates</th>\n",
       "    </tr>\n",
       "    <tr>\n",
       "      <th>county_name</th>\n",
       "      <th></th>\n",
       "      <th></th>\n",
       "      <th></th>\n",
       "      <th></th>\n",
       "      <th></th>\n",
       "    </tr>\n",
       "  </thead>\n",
       "  <tbody>\n",
       "    <tr>\n",
       "      <th>Los Angeles</th>\n",
       "      <td>1.417333</td>\n",
       "      <td>1.263436</td>\n",
       "      <td>45.288365</td>\n",
       "      <td>0.107132</td>\n",
       "      <td>0.007667</td>\n",
       "    </tr>\n",
       "    <tr>\n",
       "      <th>Orange</th>\n",
       "      <td>1.212074</td>\n",
       "      <td>1.152400</td>\n",
       "      <td>10.735031</td>\n",
       "      <td>0.171235</td>\n",
       "      <td>0.003221</td>\n",
       "    </tr>\n",
       "    <tr>\n",
       "      <th>Ventura</th>\n",
       "      <td>1.205379</td>\n",
       "      <td>1.124874</td>\n",
       "      <td>29.486491</td>\n",
       "      <td>0.078687</td>\n",
       "      <td>0.008288</td>\n",
       "    </tr>\n",
       "  </tbody>\n",
       "</table>\n",
       "</div>"
      ],
      "text/plain": [
       "             Mean Tax Rate %  Median Tax Rate %  Max Tax Rate %  \\\n",
       "county_name                                                       \n",
       "Los Angeles         1.417333           1.263436       45.288365   \n",
       "Orange              1.212074           1.152400       10.735031   \n",
       "Ventura             1.205379           1.124874       29.486491   \n",
       "\n",
       "             Min Tax Rate %  AVG STD of Tax Rates  \n",
       "county_name                                        \n",
       "Los Angeles        0.107132              0.007667  \n",
       "Orange             0.171235              0.003221  \n",
       "Ventura            0.078687              0.008288  "
      ]
     },
     "execution_count": 148,
     "metadata": {},
     "output_type": "execute_result"
    }
   ],
   "source": [
    "pd.merge(summary3 , county_std , left_index=True, right_index=True)"
   ]
  },
  {
   "cell_type": "markdown",
   "metadata": {},
   "source": [
    "LA has some serious outliers and so does Ventura"
   ]
  },
  {
   "cell_type": "code",
   "execution_count": 103,
   "metadata": {},
   "outputs": [
    {
     "data": {
      "text/plain": [
       "Text(0.5, 1.0, 'Ventura County')"
      ]
     },
     "execution_count": 103,
     "metadata": {},
     "output_type": "execute_result"
    },
    {
     "data": {
      "image/png": "[encoded data removed]",
      "text/plain": [
       "<Figure size 864x864 with 1 Axes>"
      ]
     },
     "metadata": {
      "needs_background": "light"
     },
     "output_type": "display_data"
    },
    {
     "data": {
      "image/png": "[encoded data removed]",
      "text/plain": [
       "<Figure size 864x864 with 3 Axes>"
      ]
     },
     "metadata": {
      "needs_background": "light"
     },
     "output_type": "display_data"
    }
   ],
   "source": [
    "c=\"#006AFF\"\n",
    "\n",
    "plt.figure(figsize=(12,12))\n",
    "sns.distplot(zillow.tax_rate, color=c)\n",
    "plt.xlim(0, 0.04)\n",
    "plt.ylabel(\"Count\")\n",
    "plt.title(\"Property Tax Distribution for all three Counties\")\n",
    "\n",
    "plt.figure(figsize=(12,12))\n",
    "\n",
    "plt.suptitle('Property Tax Distribution by County - note Y axis is not on the same scale', fontsize=14)\n",
    "\n",
    "plt.subplot(1, 3, 1)\n",
    "sns.distplot(la_county.tax_rate, color=c)\n",
    "plt.xlim(0, 0.04)\n",
    "plt.ylabel(\"Count\")\n",
    "plt.title(\"Los Angeles\")\n",
    "\n",
    "plt.subplot(1, 3, 2)\n",
    "sns.distplot(orange_county.tax_rate, color=c)\n",
    "plt.xlim(0, 0.04)\n",
    "plt.ylabel(\"Count\")\n",
    "plt.title(\"Orange County\")\n",
    "\n",
    "plt.subplot(1, 3, 3)\n",
    "sns.distplot(ventura_county.tax_rate, color=c)\n",
    "plt.xlim(0, 0.04)\n",
    "plt.ylabel(\"Count\")\n",
    "plt.title(\"Ventura County\")\n"
   ]
  },
  {
   "cell_type": "markdown",
   "metadata": {},
   "source": [
    "## Split the data"
   ]
  },
  {
   "cell_type": "code",
   "execution_count": 29,
   "metadata": {},
   "outputs": [],
   "source": [
    "def split_my_data(df, train_pct=0.70, seed=123):\n",
    "    \"\"\"\n",
    "    Takes in a dataframe, training pct amount and seed to split the into testing and training df\n",
    "    seed will default to 123 if not specified\n",
    "    train_pct defaults to .7 if not specified\n",
    "    \"\"\"\n",
    "    train, test = train_test_split(df, train_size=train_pct, random_state=seed)\n",
    "    return train, test"
   ]
  },
  {
   "cell_type": "code",
   "execution_count": 30,
   "metadata": {},
   "outputs": [],
   "source": [
    "train, test = split_my_data(zillow, .7, 123)"
   ]
  },
  {
   "cell_type": "code",
   "execution_count": 31,
   "metadata": {},
   "outputs": [
    {
     "data": {
      "text/html": [
       "<div>\n",
       "<style scoped>\n",
       "    .dataframe tbody tr th:only-of-type {\n",
       "        vertical-align: middle;\n",
       "    }\n",
       "\n",
       "    .dataframe tbody tr th {\n",
       "        vertical-align: top;\n",
       "    }\n",
       "\n",
       "    .dataframe thead th {\n",
       "        text-align: right;\n",
       "    }\n",
       "</style>\n",
       "<table border=\"1\" class=\"dataframe\">\n",
       "  <thead>\n",
       "    <tr style=\"text-align: right;\">\n",
       "      <th></th>\n",
       "      <th>bath_count</th>\n",
       "      <th>bedroom_count</th>\n",
       "      <th>sqft</th>\n",
       "      <th>assessed_tax_value</th>\n",
       "      <th>tax_rate</th>\n",
       "      <th>county_name</th>\n",
       "      <th>State</th>\n",
       "      <th>tax_percentage</th>\n",
       "    </tr>\n",
       "  </thead>\n",
       "  <tbody>\n",
       "    <tr>\n",
       "      <th>7719</th>\n",
       "      <td>3.0</td>\n",
       "      <td>3.0</td>\n",
       "      <td>1680.0</td>\n",
       "      <td>543906.0</td>\n",
       "      <td>0.012140</td>\n",
       "      <td>Los Angeles</td>\n",
       "      <td>CA</td>\n",
       "      <td>1.213982</td>\n",
       "    </tr>\n",
       "    <tr>\n",
       "      <th>5553</th>\n",
       "      <td>2.0</td>\n",
       "      <td>3.0</td>\n",
       "      <td>1243.0</td>\n",
       "      <td>451000.0</td>\n",
       "      <td>0.012242</td>\n",
       "      <td>Los Angeles</td>\n",
       "      <td>CA</td>\n",
       "      <td>1.224226</td>\n",
       "    </tr>\n",
       "    <tr>\n",
       "      <th>5200</th>\n",
       "      <td>3.0</td>\n",
       "      <td>5.0</td>\n",
       "      <td>2355.0</td>\n",
       "      <td>682245.0</td>\n",
       "      <td>0.012690</td>\n",
       "      <td>Los Angeles</td>\n",
       "      <td>CA</td>\n",
       "      <td>1.269003</td>\n",
       "    </tr>\n",
       "    <tr>\n",
       "      <th>600</th>\n",
       "      <td>2.0</td>\n",
       "      <td>3.0</td>\n",
       "      <td>1120.0</td>\n",
       "      <td>124330.0</td>\n",
       "      <td>0.012305</td>\n",
       "      <td>Los Angeles</td>\n",
       "      <td>CA</td>\n",
       "      <td>1.230516</td>\n",
       "    </tr>\n",
       "  </tbody>\n",
       "</table>\n",
       "</div>"
      ],
      "text/plain": [
       "      bath_count  bedroom_count    sqft  assessed_tax_value  tax_rate  \\\n",
       "7719         3.0            3.0  1680.0            543906.0  0.012140   \n",
       "5553         2.0            3.0  1243.0            451000.0  0.012242   \n",
       "5200         3.0            5.0  2355.0            682245.0  0.012690   \n",
       "600          2.0            3.0  1120.0            124330.0  0.012305   \n",
       "\n",
       "      county_name State  tax_percentage  \n",
       "7719  Los Angeles    CA        1.213982  \n",
       "5553  Los Angeles    CA        1.224226  \n",
       "5200  Los Angeles    CA        1.269003  \n",
       "600   Los Angeles    CA        1.230516  "
      ]
     },
     "execution_count": 31,
     "metadata": {},
     "output_type": "execute_result"
    }
   ],
   "source": [
    "train.sample(4)"
   ]
  },
  {
   "cell_type": "markdown",
   "metadata": {},
   "source": [
    "# Data Exploration"
   ]
  },
  {
   "cell_type": "markdown",
   "metadata": {},
   "source": [
    "## Initial Hypothesis\n",
    "- $H_0$ - There will be no linear difference in assessed home values based on sqft, n bedrooms, n of baths\n",
    "- $H_a$ - There will be a significant linear difference in home values based on the sqft, n bedrooms and n of baths"
   ]
  },
  {
   "cell_type": "code",
   "execution_count": 32,
   "metadata": {},
   "outputs": [],
   "source": [
    "mvp_df = train[[\"bath_count\", \"bedroom_count\", \"sqft\", \"assessed_tax_value\"]]"
   ]
  },
  {
   "cell_type": "code",
   "execution_count": 33,
   "metadata": {},
   "outputs": [],
   "source": [
    "X_train = train[[\"bath_count\", \"bedroom_count\", \"sqft\"]]"
   ]
  },
  {
   "cell_type": "code",
   "execution_count": 34,
   "metadata": {},
   "outputs": [],
   "source": [
    "y_train = train.assessed_tax_value"
   ]
  },
  {
   "cell_type": "code",
   "execution_count": 35,
   "metadata": {},
   "outputs": [
    {
     "data": {
      "text/html": [
       "<div>\n",
       "<style scoped>\n",
       "    .dataframe tbody tr th:only-of-type {\n",
       "        vertical-align: middle;\n",
       "    }\n",
       "\n",
       "    .dataframe tbody tr th {\n",
       "        vertical-align: top;\n",
       "    }\n",
       "\n",
       "    .dataframe thead th {\n",
       "        text-align: right;\n",
       "    }\n",
       "</style>\n",
       "<table border=\"1\" class=\"dataframe\">\n",
       "  <thead>\n",
       "    <tr style=\"text-align: right;\">\n",
       "      <th></th>\n",
       "      <th>bath_count</th>\n",
       "      <th>bedroom_count</th>\n",
       "      <th>sqft</th>\n",
       "    </tr>\n",
       "  </thead>\n",
       "  <tbody>\n",
       "    <tr>\n",
       "      <th>12620</th>\n",
       "      <td>2.5</td>\n",
       "      <td>3.0</td>\n",
       "      <td>1890.0</td>\n",
       "    </tr>\n",
       "    <tr>\n",
       "      <th>12666</th>\n",
       "      <td>2.5</td>\n",
       "      <td>4.0</td>\n",
       "      <td>2045.0</td>\n",
       "    </tr>\n",
       "    <tr>\n",
       "      <th>2345</th>\n",
       "      <td>2.0</td>\n",
       "      <td>4.0</td>\n",
       "      <td>2250.0</td>\n",
       "    </tr>\n",
       "    <tr>\n",
       "      <th>12384</th>\n",
       "      <td>3.0</td>\n",
       "      <td>3.0</td>\n",
       "      <td>1643.0</td>\n",
       "    </tr>\n",
       "    <tr>\n",
       "      <th>12603</th>\n",
       "      <td>2.0</td>\n",
       "      <td>4.0</td>\n",
       "      <td>1599.0</td>\n",
       "    </tr>\n",
       "  </tbody>\n",
       "</table>\n",
       "</div>"
      ],
      "text/plain": [
       "       bath_count  bedroom_count    sqft\n",
       "12620         2.5            3.0  1890.0\n",
       "12666         2.5            4.0  2045.0\n",
       "2345          2.0            4.0  2250.0\n",
       "12384         3.0            3.0  1643.0\n",
       "12603         2.0            4.0  1599.0"
      ]
     },
     "execution_count": 35,
     "metadata": {},
     "output_type": "execute_result"
    }
   ],
   "source": [
    "X_train.head()"
   ]
  },
  {
   "cell_type": "code",
   "execution_count": 36,
   "metadata": {},
   "outputs": [
    {
     "data": {
      "text/plain": [
       "12620    576038.0\n",
       "12666    557045.0\n",
       "2345     284163.0\n",
       "12384    572000.0\n",
       "12603    350939.0\n",
       "Name: assessed_tax_value, dtype: float64"
      ]
     },
     "execution_count": 36,
     "metadata": {},
     "output_type": "execute_result"
    }
   ],
   "source": [
    "y_train.head()"
   ]
  },
  {
   "cell_type": "code",
   "execution_count": 37,
   "metadata": {},
   "outputs": [],
   "source": [
    "alpha = .05"
   ]
  },
  {
   "cell_type": "code",
   "execution_count": 38,
   "metadata": {},
   "outputs": [
    {
     "data": {
      "text/html": [
       "<div>\n",
       "<style scoped>\n",
       "    .dataframe tbody tr th:only-of-type {\n",
       "        vertical-align: middle;\n",
       "    }\n",
       "\n",
       "    .dataframe tbody tr th {\n",
       "        vertical-align: top;\n",
       "    }\n",
       "\n",
       "    .dataframe thead th {\n",
       "        text-align: right;\n",
       "    }\n",
       "</style>\n",
       "<table border=\"1\" class=\"dataframe\">\n",
       "  <thead>\n",
       "    <tr style=\"text-align: right;\">\n",
       "      <th></th>\n",
       "      <th>bath_count</th>\n",
       "      <th>bedroom_count</th>\n",
       "      <th>sqft</th>\n",
       "      <th>assessed_tax_value</th>\n",
       "    </tr>\n",
       "  </thead>\n",
       "  <tbody>\n",
       "    <tr>\n",
       "      <th>bath_count</th>\n",
       "      <td>1.000000</td>\n",
       "      <td>0.642765</td>\n",
       "      <td>0.858048</td>\n",
       "      <td>0.528742</td>\n",
       "    </tr>\n",
       "    <tr>\n",
       "      <th>bedroom_count</th>\n",
       "      <td>0.642765</td>\n",
       "      <td>1.000000</td>\n",
       "      <td>0.631470</td>\n",
       "      <td>0.276186</td>\n",
       "    </tr>\n",
       "    <tr>\n",
       "      <th>sqft</th>\n",
       "      <td>0.858048</td>\n",
       "      <td>0.631470</td>\n",
       "      <td>1.000000</td>\n",
       "      <td>0.604807</td>\n",
       "    </tr>\n",
       "    <tr>\n",
       "      <th>assessed_tax_value</th>\n",
       "      <td>0.528742</td>\n",
       "      <td>0.276186</td>\n",
       "      <td>0.604807</td>\n",
       "      <td>1.000000</td>\n",
       "    </tr>\n",
       "  </tbody>\n",
       "</table>\n",
       "</div>"
      ],
      "text/plain": [
       "                    bath_count  bedroom_count      sqft  assessed_tax_value\n",
       "bath_count            1.000000       0.642765  0.858048            0.528742\n",
       "bedroom_count         0.642765       1.000000  0.631470            0.276186\n",
       "sqft                  0.858048       0.631470  1.000000            0.604807\n",
       "assessed_tax_value    0.528742       0.276186  0.604807            1.000000"
      ]
     },
     "execution_count": 38,
     "metadata": {},
     "output_type": "execute_result"
    }
   ],
   "source": [
    "mvp_df.corr()"
   ]
  },
  {
   "cell_type": "code",
   "execution_count": 39,
   "metadata": {},
   "outputs": [],
   "source": [
    "def plot_variable_pairs(dataframe):\n",
    "    \"\"\"This function returns a pairplot to help explore relationships\"\"\"\n",
    "    return sns.pairplot(dataframe, kind=\"reg\")"
   ]
  },
  {
   "cell_type": "code",
   "execution_count": 40,
   "metadata": {},
   "outputs": [
    {
     "data": {
      "text/plain": [
       "<seaborn.axisgrid.PairGrid at 0x132161190>"
      ]
     },
     "execution_count": 40,
     "metadata": {},
     "output_type": "execute_result"
    },
    {
     "data": {
      "image/png": "[encoded data removed]",
      "text/plain": [
       "<Figure size 720x720 with 20 Axes>"
      ]
     },
     "metadata": {
      "needs_background": "light"
     },
     "output_type": "display_data"
    }
   ],
   "source": [
    "plot_variable_pairs(mvp_df)"
   ]
  },
  {
   "cell_type": "code",
   "execution_count": 41,
   "metadata": {},
   "outputs": [
    {
     "data": {
      "text/plain": [
       "<matplotlib.axes._subplots.AxesSubplot at 0x132a79490>"
      ]
     },
     "execution_count": 41,
     "metadata": {},
     "output_type": "execute_result"
    },
    {
     "data": {
      "image/png": "[encoded data removed]",
      "text/plain": [
       "<Figure size 432x288 with 2 Axes>"
      ]
     },
     "metadata": {
      "needs_background": "light"
     },
     "output_type": "display_data"
    }
   ],
   "source": [
    "sns.heatmap(mvp_df.corr(), annot=True, cmap=\"BuPu\")"
   ]
  },
  {
   "cell_type": "code",
   "execution_count": 42,
   "metadata": {},
   "outputs": [],
   "source": [
    "r_bath, p_bath = stats.pearsonr(mvp_df.bath_count, mvp_df.assessed_tax_value)"
   ]
  },
  {
   "cell_type": "code",
   "execution_count": 43,
   "metadata": {},
   "outputs": [
    {
     "name": "stdout",
     "output_type": "stream",
     "text": [
      "0.0\n"
     ]
    }
   ],
   "source": [
    "print(p_bath)"
   ]
  },
  {
   "cell_type": "code",
   "execution_count": 44,
   "metadata": {},
   "outputs": [],
   "source": [
    "bedroom_count, p_bedroom_count = stats.pearsonr(mvp_df.bedroom_count, mvp_df.assessed_tax_value)"
   ]
  },
  {
   "cell_type": "code",
   "execution_count": 45,
   "metadata": {},
   "outputs": [
    {
     "name": "stdout",
     "output_type": "stream",
     "text": [
      "5.153704730608228e-183\n"
     ]
    }
   ],
   "source": [
    "print(p_bedroom_count)"
   ]
  },
  {
   "cell_type": "code",
   "execution_count": 46,
   "metadata": {},
   "outputs": [],
   "source": [
    "r_sqft, p_sqft = stats.pearsonr(mvp_df.sqft, mvp_df.assessed_tax_value)"
   ]
  },
  {
   "cell_type": "code",
   "execution_count": 47,
   "metadata": {},
   "outputs": [
    {
     "name": "stdout",
     "output_type": "stream",
     "text": [
      "0.0\n"
     ]
    }
   ],
   "source": [
    "print(p_sqft)"
   ]
  },
  {
   "cell_type": "code",
   "execution_count": 48,
   "metadata": {},
   "outputs": [
    {
     "name": "stdout",
     "output_type": "stream",
     "text": [
      "We reject the null hypothesis\n"
     ]
    }
   ],
   "source": [
    "if p_bath < alpha and p_bedroom_count < alpha and p_sqft < alpha:\n",
    "    print(\"We reject the null hypothesis\")\n",
    "else:\n",
    "    print(\"We fail to reject the null hypothesis\")"
   ]
  },
  {
   "cell_type": "markdown",
   "metadata": {},
   "source": [
    "#### Takeaways on exploration \n",
    "- house sqft plays the biggest role in assessed tax value\n",
    "- bedroom counts and bathroom counts are about the same when it comes to driving assessed tax value"
   ]
  },
  {
   "cell_type": "markdown",
   "metadata": {},
   "source": [
    "# Modeling\n",
    "- Establish baseline using the mean assessed_tax_value\n",
    "- create an OLS model and compare to baseline"
   ]
  },
  {
   "cell_type": "code",
   "execution_count": 49,
   "metadata": {},
   "outputs": [],
   "source": [
    "X_train = train[[\"bath_count\", \"bedroom_count\", \"sqft\"]]\n",
    "y_train = train.assessed_tax_value"
   ]
  },
  {
   "cell_type": "code",
   "execution_count": 50,
   "metadata": {},
   "outputs": [
    {
     "data": {
      "text/html": [
       "<div>\n",
       "<style scoped>\n",
       "    .dataframe tbody tr th:only-of-type {\n",
       "        vertical-align: middle;\n",
       "    }\n",
       "\n",
       "    .dataframe tbody tr th {\n",
       "        vertical-align: top;\n",
       "    }\n",
       "\n",
       "    .dataframe thead th {\n",
       "        text-align: right;\n",
       "    }\n",
       "</style>\n",
       "<table border=\"1\" class=\"dataframe\">\n",
       "  <thead>\n",
       "    <tr style=\"text-align: right;\">\n",
       "      <th></th>\n",
       "      <th>bath_count</th>\n",
       "      <th>bedroom_count</th>\n",
       "      <th>sqft</th>\n",
       "    </tr>\n",
       "  </thead>\n",
       "  <tbody>\n",
       "    <tr>\n",
       "      <th>12620</th>\n",
       "      <td>2.5</td>\n",
       "      <td>3.0</td>\n",
       "      <td>1890.0</td>\n",
       "    </tr>\n",
       "    <tr>\n",
       "      <th>12666</th>\n",
       "      <td>2.5</td>\n",
       "      <td>4.0</td>\n",
       "      <td>2045.0</td>\n",
       "    </tr>\n",
       "    <tr>\n",
       "      <th>2345</th>\n",
       "      <td>2.0</td>\n",
       "      <td>4.0</td>\n",
       "      <td>2250.0</td>\n",
       "    </tr>\n",
       "    <tr>\n",
       "      <th>12384</th>\n",
       "      <td>3.0</td>\n",
       "      <td>3.0</td>\n",
       "      <td>1643.0</td>\n",
       "    </tr>\n",
       "    <tr>\n",
       "      <th>12603</th>\n",
       "      <td>2.0</td>\n",
       "      <td>4.0</td>\n",
       "      <td>1599.0</td>\n",
       "    </tr>\n",
       "  </tbody>\n",
       "</table>\n",
       "</div>"
      ],
      "text/plain": [
       "       bath_count  bedroom_count    sqft\n",
       "12620         2.5            3.0  1890.0\n",
       "12666         2.5            4.0  2045.0\n",
       "2345          2.0            4.0  2250.0\n",
       "12384         3.0            3.0  1643.0\n",
       "12603         2.0            4.0  1599.0"
      ]
     },
     "execution_count": 50,
     "metadata": {},
     "output_type": "execute_result"
    }
   ],
   "source": [
    "X_train.head()"
   ]
  },
  {
   "cell_type": "code",
   "execution_count": 51,
   "metadata": {},
   "outputs": [
    {
     "data": {
      "text/plain": [
       "12620    576038.0\n",
       "12666    557045.0\n",
       "2345     284163.0\n",
       "12384    572000.0\n",
       "12603    350939.0\n",
       "Name: assessed_tax_value, dtype: float64"
      ]
     },
     "execution_count": 51,
     "metadata": {},
     "output_type": "execute_result"
    }
   ],
   "source": [
    "y_train.head()"
   ]
  },
  {
   "cell_type": "markdown",
   "metadata": {},
   "source": [
    "- create a dataframe to hold all predictions for easy comparisions later"
   ]
  },
  {
   "cell_type": "code",
   "execution_count": 52,
   "metadata": {},
   "outputs": [],
   "source": [
    "predictions = pd.DataFrame({\"actual\": train.assessed_tax_value})"
   ]
  },
  {
   "cell_type": "code",
   "execution_count": 53,
   "metadata": {},
   "outputs": [
    {
     "data": {
      "text/html": [
       "<div>\n",
       "<style scoped>\n",
       "    .dataframe tbody tr th:only-of-type {\n",
       "        vertical-align: middle;\n",
       "    }\n",
       "\n",
       "    .dataframe tbody tr th {\n",
       "        vertical-align: top;\n",
       "    }\n",
       "\n",
       "    .dataframe thead th {\n",
       "        text-align: right;\n",
       "    }\n",
       "</style>\n",
       "<table border=\"1\" class=\"dataframe\">\n",
       "  <thead>\n",
       "    <tr style=\"text-align: right;\">\n",
       "      <th></th>\n",
       "      <th>actual</th>\n",
       "    </tr>\n",
       "  </thead>\n",
       "  <tbody>\n",
       "    <tr>\n",
       "      <th>12620</th>\n",
       "      <td>576038.0</td>\n",
       "    </tr>\n",
       "    <tr>\n",
       "      <th>12666</th>\n",
       "      <td>557045.0</td>\n",
       "    </tr>\n",
       "    <tr>\n",
       "      <th>2345</th>\n",
       "      <td>284163.0</td>\n",
       "    </tr>\n",
       "    <tr>\n",
       "      <th>12384</th>\n",
       "      <td>572000.0</td>\n",
       "    </tr>\n",
       "    <tr>\n",
       "      <th>12603</th>\n",
       "      <td>350939.0</td>\n",
       "    </tr>\n",
       "  </tbody>\n",
       "</table>\n",
       "</div>"
      ],
      "text/plain": [
       "         actual\n",
       "12620  576038.0\n",
       "12666  557045.0\n",
       "2345   284163.0\n",
       "12384  572000.0\n",
       "12603  350939.0"
      ]
     },
     "execution_count": 53,
     "metadata": {},
     "output_type": "execute_result"
    }
   ],
   "source": [
    "predictions.head()"
   ]
  },
  {
   "cell_type": "code",
   "execution_count": 54,
   "metadata": {},
   "outputs": [],
   "source": [
    "predictions[\"baseline\"] = y_train.mean()"
   ]
  },
  {
   "cell_type": "code",
   "execution_count": 55,
   "metadata": {},
   "outputs": [
    {
     "data": {
      "text/html": [
       "<div>\n",
       "<style scoped>\n",
       "    .dataframe tbody tr th:only-of-type {\n",
       "        vertical-align: middle;\n",
       "    }\n",
       "\n",
       "    .dataframe tbody tr th {\n",
       "        vertical-align: top;\n",
       "    }\n",
       "\n",
       "    .dataframe thead th {\n",
       "        text-align: right;\n",
       "    }\n",
       "</style>\n",
       "<table border=\"1\" class=\"dataframe\">\n",
       "  <thead>\n",
       "    <tr style=\"text-align: right;\">\n",
       "      <th></th>\n",
       "      <th>actual</th>\n",
       "      <th>baseline</th>\n",
       "    </tr>\n",
       "  </thead>\n",
       "  <tbody>\n",
       "    <tr>\n",
       "      <th>12620</th>\n",
       "      <td>576038.0</td>\n",
       "      <td>544075.261151</td>\n",
       "    </tr>\n",
       "    <tr>\n",
       "      <th>12666</th>\n",
       "      <td>557045.0</td>\n",
       "      <td>544075.261151</td>\n",
       "    </tr>\n",
       "    <tr>\n",
       "      <th>2345</th>\n",
       "      <td>284163.0</td>\n",
       "      <td>544075.261151</td>\n",
       "    </tr>\n",
       "    <tr>\n",
       "      <th>12384</th>\n",
       "      <td>572000.0</td>\n",
       "      <td>544075.261151</td>\n",
       "    </tr>\n",
       "    <tr>\n",
       "      <th>12603</th>\n",
       "      <td>350939.0</td>\n",
       "      <td>544075.261151</td>\n",
       "    </tr>\n",
       "    <tr>\n",
       "      <th>...</th>\n",
       "      <td>...</td>\n",
       "      <td>...</td>\n",
       "    </tr>\n",
       "    <tr>\n",
       "      <th>5234</th>\n",
       "      <td>533298.0</td>\n",
       "      <td>544075.261151</td>\n",
       "    </tr>\n",
       "    <tr>\n",
       "      <th>12284</th>\n",
       "      <td>4336027.0</td>\n",
       "      <td>544075.261151</td>\n",
       "    </tr>\n",
       "    <tr>\n",
       "      <th>1352</th>\n",
       "      <td>259655.0</td>\n",
       "      <td>544075.261151</td>\n",
       "    </tr>\n",
       "    <tr>\n",
       "      <th>11677</th>\n",
       "      <td>2086601.0</td>\n",
       "      <td>544075.261151</td>\n",
       "    </tr>\n",
       "    <tr>\n",
       "      <th>3595</th>\n",
       "      <td>74133.0</td>\n",
       "      <td>544075.261151</td>\n",
       "    </tr>\n",
       "  </tbody>\n",
       "</table>\n",
       "<p>10492 rows × 2 columns</p>\n",
       "</div>"
      ],
      "text/plain": [
       "          actual       baseline\n",
       "12620   576038.0  544075.261151\n",
       "12666   557045.0  544075.261151\n",
       "2345    284163.0  544075.261151\n",
       "12384   572000.0  544075.261151\n",
       "12603   350939.0  544075.261151\n",
       "...          ...            ...\n",
       "5234    533298.0  544075.261151\n",
       "12284  4336027.0  544075.261151\n",
       "1352    259655.0  544075.261151\n",
       "11677  2086601.0  544075.261151\n",
       "3595     74133.0  544075.261151\n",
       "\n",
       "[10492 rows x 2 columns]"
      ]
     },
     "execution_count": 55,
     "metadata": {},
     "output_type": "execute_result"
    }
   ],
   "source": [
    "predictions"
   ]
  },
  {
   "cell_type": "code",
   "execution_count": 56,
   "metadata": {},
   "outputs": [],
   "source": [
    "all_3_lm = sklearn.linear_model.LinearRegression()"
   ]
  },
  {
   "cell_type": "code",
   "execution_count": 57,
   "metadata": {},
   "outputs": [
    {
     "data": {
      "text/plain": [
       "LinearRegression(copy_X=True, fit_intercept=True, n_jobs=None, normalize=False)"
      ]
     },
     "execution_count": 57,
     "metadata": {},
     "output_type": "execute_result"
    }
   ],
   "source": [
    "all_3_lm.fit(X_train, y_train)"
   ]
  },
  {
   "cell_type": "code",
   "execution_count": 58,
   "metadata": {},
   "outputs": [],
   "source": [
    "predictions[\"sqft_nbath_nbed_lm\"] = all_3_lm.predict(X_train)"
   ]
  },
  {
   "cell_type": "code",
   "execution_count": 59,
   "metadata": {},
   "outputs": [
    {
     "data": {
      "text/plain": [
       "(array([  78490.30220632, -149287.95208061,     453.4930138 ]),\n",
       " -29529.831483666552)"
      ]
     },
     "execution_count": 59,
     "metadata": {},
     "output_type": "execute_result"
    }
   ],
   "source": [
    "all_3_lm.coef_, all_3_lm.intercept_"
   ]
  },
  {
   "cell_type": "code",
   "execution_count": 60,
   "metadata": {},
   "outputs": [],
   "source": [
    "sqft_x = train[[\"sqft\"]]"
   ]
  },
  {
   "cell_type": "code",
   "execution_count": 61,
   "metadata": {},
   "outputs": [],
   "source": [
    "sqft_lm = sklearn.linear_model.LinearRegression()"
   ]
  },
  {
   "cell_type": "code",
   "execution_count": 62,
   "metadata": {},
   "outputs": [
    {
     "data": {
      "text/plain": [
       "LinearRegression(copy_X=True, fit_intercept=True, n_jobs=None, normalize=False)"
      ]
     },
     "execution_count": 62,
     "metadata": {},
     "output_type": "execute_result"
    }
   ],
   "source": [
    "sqft_lm.fit(sqft_x, y_train)"
   ]
  },
  {
   "cell_type": "code",
   "execution_count": 63,
   "metadata": {},
   "outputs": [
    {
     "data": {
      "text/plain": [
       "(array([434.01855626]), -304161.8851243417)"
      ]
     },
     "execution_count": 63,
     "metadata": {},
     "output_type": "execute_result"
    }
   ],
   "source": [
    "sqft_lm.coef_, sqft_lm.intercept_"
   ]
  },
  {
   "cell_type": "code",
   "execution_count": 64,
   "metadata": {},
   "outputs": [],
   "source": [
    "predictions[\"sqft_lm\"] = sqft_lm.predict(sqft_x)"
   ]
  },
  {
   "cell_type": "code",
   "execution_count": 65,
   "metadata": {},
   "outputs": [],
   "source": [
    "n_bed_x = train[[\"bedroom_count\"]]"
   ]
  },
  {
   "cell_type": "code",
   "execution_count": 66,
   "metadata": {},
   "outputs": [],
   "source": [
    "n_bed_lm = sklearn.linear_model.LinearRegression()"
   ]
  },
  {
   "cell_type": "code",
   "execution_count": 67,
   "metadata": {},
   "outputs": [
    {
     "data": {
      "text/plain": [
       "LinearRegression(copy_X=True, fit_intercept=True, n_jobs=None, normalize=False)"
      ]
     },
     "execution_count": 67,
     "metadata": {},
     "output_type": "execute_result"
    }
   ],
   "source": [
    "n_bed_lm.fit(n_bed_x, y_train)"
   ]
  },
  {
   "cell_type": "code",
   "execution_count": 68,
   "metadata": {},
   "outputs": [
    {
     "data": {
      "text/plain": [
       "(array([211893.80254284]), -160574.6306254448)"
      ]
     },
     "execution_count": 68,
     "metadata": {},
     "output_type": "execute_result"
    }
   ],
   "source": [
    "n_bed_lm.coef_, n_bed_lm.intercept_"
   ]
  },
  {
   "cell_type": "code",
   "execution_count": 69,
   "metadata": {},
   "outputs": [],
   "source": [
    "predictions[\"n_bed_lm\"] = n_bed_lm.predict(n_bed_x)"
   ]
  },
  {
   "cell_type": "code",
   "execution_count": 70,
   "metadata": {},
   "outputs": [],
   "source": [
    "n_bath_x = train[[\"bedroom_count\"]]"
   ]
  },
  {
   "cell_type": "code",
   "execution_count": 71,
   "metadata": {},
   "outputs": [],
   "source": [
    "n_bath_lm = sklearn.linear_model.LinearRegression()"
   ]
  },
  {
   "cell_type": "code",
   "execution_count": 72,
   "metadata": {},
   "outputs": [
    {
     "data": {
      "text/plain": [
       "LinearRegression(copy_X=True, fit_intercept=True, n_jobs=None, normalize=False)"
      ]
     },
     "execution_count": 72,
     "metadata": {},
     "output_type": "execute_result"
    }
   ],
   "source": [
    "n_bath_lm.fit(n_bath_x, y_train)"
   ]
  },
  {
   "cell_type": "code",
   "execution_count": 73,
   "metadata": {},
   "outputs": [
    {
     "data": {
      "text/plain": [
       "(array([211893.80254284]), -160574.6306254448)"
      ]
     },
     "execution_count": 73,
     "metadata": {},
     "output_type": "execute_result"
    }
   ],
   "source": [
    "n_bath_lm.coef_, n_bath_lm.intercept_"
   ]
  },
  {
   "cell_type": "code",
   "execution_count": 74,
   "metadata": {},
   "outputs": [],
   "source": [
    "predictions[\"n_bath_lm\"] = n_bed_lm.predict(n_bath_x)"
   ]
  },
  {
   "cell_type": "code",
   "execution_count": 75,
   "metadata": {},
   "outputs": [
    {
     "data": {
      "text/html": [
       "<div>\n",
       "<style scoped>\n",
       "    .dataframe tbody tr th:only-of-type {\n",
       "        vertical-align: middle;\n",
       "    }\n",
       "\n",
       "    .dataframe tbody tr th {\n",
       "        vertical-align: top;\n",
       "    }\n",
       "\n",
       "    .dataframe thead th {\n",
       "        text-align: right;\n",
       "    }\n",
       "</style>\n",
       "<table border=\"1\" class=\"dataframe\">\n",
       "  <thead>\n",
       "    <tr style=\"text-align: right;\">\n",
       "      <th></th>\n",
       "      <th>actual</th>\n",
       "      <th>baseline</th>\n",
       "      <th>sqft_nbath_nbed_lm</th>\n",
       "      <th>sqft_lm</th>\n",
       "      <th>n_bed_lm</th>\n",
       "      <th>n_bath_lm</th>\n",
       "    </tr>\n",
       "  </thead>\n",
       "  <tbody>\n",
       "    <tr>\n",
       "      <th>12620</th>\n",
       "      <td>576038.0</td>\n",
       "      <td>544075.261151</td>\n",
       "      <td>575933.863880</td>\n",
       "      <td>516133.186211</td>\n",
       "      <td>475106.777003</td>\n",
       "      <td>475106.777003</td>\n",
       "    </tr>\n",
       "    <tr>\n",
       "      <th>12666</th>\n",
       "      <td>557045.0</td>\n",
       "      <td>544075.261151</td>\n",
       "      <td>496937.328939</td>\n",
       "      <td>583406.062432</td>\n",
       "      <td>687000.579546</td>\n",
       "      <td>687000.579546</td>\n",
       "    </tr>\n",
       "    <tr>\n",
       "      <th>2345</th>\n",
       "      <td>284163.0</td>\n",
       "      <td>544075.261151</td>\n",
       "      <td>550658.245665</td>\n",
       "      <td>672379.866466</td>\n",
       "      <td>687000.579546</td>\n",
       "      <td>687000.579546</td>\n",
       "    </tr>\n",
       "    <tr>\n",
       "      <th>12384</th>\n",
       "      <td>572000.0</td>\n",
       "      <td>544075.261151</td>\n",
       "      <td>503166.240573</td>\n",
       "      <td>408930.602814</td>\n",
       "      <td>475106.777003</td>\n",
       "      <td>475106.777003</td>\n",
       "    </tr>\n",
       "    <tr>\n",
       "      <th>12603</th>\n",
       "      <td>350939.0</td>\n",
       "      <td>544075.261151</td>\n",
       "      <td>255434.293679</td>\n",
       "      <td>389833.786339</td>\n",
       "      <td>687000.579546</td>\n",
       "      <td>687000.579546</td>\n",
       "    </tr>\n",
       "  </tbody>\n",
       "</table>\n",
       "</div>"
      ],
      "text/plain": [
       "         actual       baseline  sqft_nbath_nbed_lm        sqft_lm  \\\n",
       "12620  576038.0  544075.261151       575933.863880  516133.186211   \n",
       "12666  557045.0  544075.261151       496937.328939  583406.062432   \n",
       "2345   284163.0  544075.261151       550658.245665  672379.866466   \n",
       "12384  572000.0  544075.261151       503166.240573  408930.602814   \n",
       "12603  350939.0  544075.261151       255434.293679  389833.786339   \n",
       "\n",
       "            n_bed_lm      n_bath_lm  \n",
       "12620  475106.777003  475106.777003  \n",
       "12666  687000.579546  687000.579546  \n",
       "2345   687000.579546  687000.579546  \n",
       "12384  475106.777003  475106.777003  \n",
       "12603  687000.579546  687000.579546  "
      ]
     },
     "execution_count": 75,
     "metadata": {},
     "output_type": "execute_result"
    }
   ],
   "source": [
    "predictions.head()"
   ]
  },
  {
   "cell_type": "markdown",
   "metadata": {},
   "source": [
    "## Evaluate\n",
    "- Now that I have a predictions table with my actual, baseline and my MVP linear model I can compare the values"
   ]
  },
  {
   "cell_type": "code",
   "execution_count": 76,
   "metadata": {},
   "outputs": [
    {
     "data": {
      "text/plain": [
       "actual                0.000000e+00\n",
       "baseline              5.230608e+11\n",
       "sqft_nbath_nbed_lm    3.203972e+11\n",
       "sqft_lm               3.317297e+11\n",
       "n_bed_lm              4.831624e+11\n",
       "n_bath_lm             4.831624e+11\n",
       "dtype: float64"
      ]
     },
     "execution_count": 76,
     "metadata": {},
     "output_type": "execute_result"
    }
   ],
   "source": [
    "predictions.apply(lambda col: sklearn.metrics.mean_squared_error(predictions.actual, col))"
   ]
  },
  {
   "cell_type": "code",
   "execution_count": 77,
   "metadata": {},
   "outputs": [],
   "source": [
    "mse_all_3 = sklearn.metrics.mean_squared_error(predictions.actual, predictions.sqft_nbath_nbed_lm)"
   ]
  },
  {
   "cell_type": "code",
   "execution_count": 78,
   "metadata": {},
   "outputs": [],
   "source": [
    "rmse_all_3_lm = sqrt(mse_all_3)"
   ]
  },
  {
   "cell_type": "code",
   "execution_count": 79,
   "metadata": {},
   "outputs": [
    {
     "data": {
      "text/plain": [
       "566036.3557829662"
      ]
     },
     "execution_count": 79,
     "metadata": {},
     "output_type": "execute_result"
    }
   ],
   "source": [
    "rmse_all_3_lm"
   ]
  },
  {
   "cell_type": "code",
   "execution_count": 80,
   "metadata": {},
   "outputs": [
    {
     "data": {
      "image/png": "[encoded data removed]",
      "text/plain": [
       "<Figure size 936x1224 with 3 Axes>"
      ]
     },
     "metadata": {
      "needs_background": "light"
     },
     "output_type": "display_data"
    }
   ],
   "source": [
    "plt.figure(figsize=(13,17))\n",
    "plt.suptitle('Property Tax Values: Predicted vs Actual\\n', fontsize=18)\n",
    "# Figure 1\n",
    "plt.subplot(1, 3, 1)\n",
    "plt.title('Bathroom Count LM\\n', fontsize=14)\n",
    "plt.scatter(X_train.bath_count, y_train, label='actual',alpha=0.5, c=\"#f2af34ff\")\n",
    "plt.scatter(X_train.bath_count, predictions.n_bath_lm , label='bathroom_ct_lm', alpha=0.5, c=\"#006AFF\")\n",
    "plt.xlabel('\\nbathrm_count')\n",
    "plt.ylabel('tax_value_dollar_count')\n",
    "plt.legend()\n",
    "# Figure 2\n",
    "plt.subplot(1, 3, 2)\n",
    "plt.title('bedrm_count\\n', fontsize=14)\n",
    "plt.scatter(X_train.bedroom_count, y_train, label='actual', alpha=0.5, c=\"#f2af34ff\")\n",
    "plt.scatter(X_train.bedroom_count, predictions.n_bed_lm, label='bedroom_ct_lm',alpha=0.5, c=\"#006AFF\")\n",
    "plt.xlabel('\\nbedrm_count')\n",
    "plt.ylabel('tax_value_dollar_count')\n",
    "plt.legend()\n",
    "# Figure 3\n",
    "plt.subplot(1, 3, 3)\n",
    "plt.title('sqft\\n', fontsize=14)\n",
    "plt.scatter(X_train.sqft, y_train, label='actual', alpha=0.5, c=\"#f2af34ff\")\n",
    "plt.scatter(X_train.sqft, predictions.sqft_lm, label='sqft_lm', alpha=0.5, c=\"#006AFF\")\n",
    "plt.xlabel('\\nsqft')\n",
    "plt.ylabel('tax_value_dollar_count')\n",
    "plt.legend()\n",
    "plt.show()"
   ]
  },
  {
   "cell_type": "code",
   "execution_count": 81,
   "metadata": {},
   "outputs": [
    {
     "name": "stderr",
     "output_type": "stream",
     "text": [
      "/usr/local/anaconda3/lib/python3.7/site-packages/seaborn/relational.py:784: MatplotlibDeprecationWarning: Saw kwargs ['c', 'color'] which are all aliases for 'color'.  Kept value from 'color'.  Passing multiple aliases for the same property will raise a TypeError in 3.3.\n",
      "  line, = ax.plot([], [], **kws)\n",
      "/usr/local/anaconda3/lib/python3.7/site-packages/seaborn/relational.py:795: MatplotlibDeprecationWarning: Saw kwargs ['c', 'color'] which are all aliases for 'color'.  Kept value from 'color'.  Passing multiple aliases for the same property will raise a TypeError in 3.3.\n",
      "  line, = ax.plot(x, y, **kws)\n",
      "/usr/local/anaconda3/lib/python3.7/site-packages/seaborn/relational.py:784: MatplotlibDeprecationWarning: Saw kwargs ['c', 'color'] which are all aliases for 'color'.  Kept value from 'color'.  Passing multiple aliases for the same property will raise a TypeError in 3.3.\n",
      "  line, = ax.plot([], [], **kws)\n",
      "/usr/local/anaconda3/lib/python3.7/site-packages/seaborn/relational.py:795: MatplotlibDeprecationWarning: Saw kwargs ['c', 'color'] which are all aliases for 'color'.  Kept value from 'color'.  Passing multiple aliases for the same property will raise a TypeError in 3.3.\n",
      "  line, = ax.plot(x, y, **kws)\n",
      "/usr/local/anaconda3/lib/python3.7/site-packages/seaborn/relational.py:784: MatplotlibDeprecationWarning: Saw kwargs ['c', 'color'] which are all aliases for 'color'.  Kept value from 'color'.  Passing multiple aliases for the same property will raise a TypeError in 3.3.\n",
      "  line, = ax.plot([], [], **kws)\n",
      "/usr/local/anaconda3/lib/python3.7/site-packages/seaborn/relational.py:795: MatplotlibDeprecationWarning: Saw kwargs ['c', 'color'] which are all aliases for 'color'.  Kept value from 'color'.  Passing multiple aliases for the same property will raise a TypeError in 3.3.\n",
      "  line, = ax.plot(x, y, **kws)\n"
     ]
    },
    {
     "data": {
      "text/plain": [
       "<matplotlib.axes._subplots.AxesSubplot at 0x13326c090>"
      ]
     },
     "execution_count": 81,
     "metadata": {},
     "output_type": "execute_result"
    },
    {
     "data": {
      "image/png": "[encoded data removed]",
      "text/plain": [
       "<Figure size 1152x1152 with 1 Axes>"
      ]
     },
     "metadata": {
      "needs_background": "light"
     },
     "output_type": "display_data"
    }
   ],
   "source": [
    "plt.figure(figsize=(16, 16))\n",
    "plt.title(\"Actual, Model Predicted, and Baseline Home Values\")\n",
    "sns.lineplot(data=predictions.actual, label=\"Actual\", c=\"#f2af34ff\")\n",
    "sns.lineplot(data=predictions.sqft_nbath_nbed_lm, label=\"Model\", c=\"#006AFF\")\n",
    "sns.lineplot(data=predictions.baseline, label=\"Baseline\", c=\"#cae4f1ff\")"
   ]
  },
  {
   "cell_type": "code",
   "execution_count": 82,
   "metadata": {},
   "outputs": [
    {
     "data": {
      "text/plain": [
       "Text(0.5, 1.0, 'Predicted vs Actual')"
      ]
     },
     "execution_count": 82,
     "metadata": {},
     "output_type": "execute_result"
    },
    {
     "data": {
      "image/png": "[encoded data removed]",
      "text/plain": [
       "<Figure size 1152x1152 with 1 Axes>"
      ]
     },
     "metadata": {
      "needs_background": "light"
     },
     "output_type": "display_data"
    }
   ],
   "source": [
    "plt.figure(figsize=(16, 16))\n",
    "\n",
    "plt.scatter(predictions.actual, predictions.sqft_nbath_nbed_lm, label='LinearRegression (assessed_tax_value ~ sqft, bedroom_count, bath_count)', marker='X', c=\"#006AFF\")\n",
    "\n",
    "plt.ylabel('Predicted')\n",
    "plt.xlabel('Actual')\n",
    "plt.title('Predicted vs Actual')"
   ]
  },
  {
   "cell_type": "code",
   "execution_count": 83,
   "metadata": {},
   "outputs": [],
   "source": [
    "def plot_residuals(actual, predicted, plot_title='Predicted vs Actual'):\n",
    "    \"\"\"\n",
    "    Takes in two values and plots the residuals\n",
    "    also takes in a plot title string, defaults to Predicted VS Actual if not provided\n",
    "    \"\"\"\n",
    "    residuals = actual - predicted\n",
    "    plt.figure(figsize=(16, 12))\n",
    "    plt.hlines(0, actual.min(), actual.max(), ls=':')\n",
    "    plt.scatter(actual, residuals, c=\"#006AFF\", alpha=0.5)\n",
    "    plt.ylabel('residual ($y - \\hat{y}$)')\n",
    "    plt.xlabel('actual value ($y$)')\n",
    "    plt.title(plot_title)\n",
    "    return plt.gca()"
   ]
  },
  {
   "cell_type": "code",
   "execution_count": 84,
   "metadata": {},
   "outputs": [
    {
     "data": {
      "text/plain": [
       "<matplotlib.axes._subplots.AxesSubplot at 0x135627190>"
      ]
     },
     "execution_count": 84,
     "metadata": {},
     "output_type": "execute_result"
    },
    {
     "data": {
      "image/png": "[encoded data removed]",
      "text/plain": [
       "<Figure size 1152x864 with 1 Axes>"
      ]
     },
     "metadata": {
      "needs_background": "light"
     },
     "output_type": "display_data"
    }
   ],
   "source": [
    "plot_residuals(predictions.actual, predictions.sqft_nbath_nbed_lm, \"Model 1(n_baths, n_beds, sqft) - Predicted vs Actual\")"
   ]
  },
  {
   "cell_type": "code",
   "execution_count": null,
   "metadata": {},
   "outputs": [],
   "source": []
  }
 ],
 "metadata": {
  "kernelspec": {
   "display_name": "Python 3",
   "language": "python",
   "name": "python3"
  },
  "language_info": {
   "codemirror_mode": {
    "name": "ipython",
    "version": 3
   },
   "file_extension": ".py",
   "mimetype": "text/x-python",
   "name": "python",
   "nbconvert_exporter": "python",
   "pygments_lexer": "ipython3",
   "version": "3.7.4"
  }
 },
 "nbformat": 4,
 "nbformat_minor": 4
}
